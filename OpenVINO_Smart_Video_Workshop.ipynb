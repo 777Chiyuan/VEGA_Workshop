{
 "cells": [
  {
   "cell_type": "markdown",
   "metadata": {
    "deletable": false,
    "editable": false
   },
   "source": [
    "# Run the cell below to see the examples\n",
    "<img src=\"assets/run-this.gif\" style=\"height:80px; margin-left:0;\"/>"
   ]
  },
  {
   "cell_type": "code",
   "execution_count": null,
   "metadata": {
    "scrolled": false
   },
   "outputs": [],
   "source": [
    "from demoTools.catalog import DemoCatalog\n",
    "cat = DemoCatalog('demoTools/OpenVINO_Smart_Video_Workshop.json')\n",
    "cat.ShowRepositoryControls()\n",
    "%autosave 0"
   ]
  },
  {
   "cell_type": "markdown",
   "metadata": {},
   "source": [
    "## Workshop Agenda\n",
    "* **Smart Video/Computer Vision Tools Overview**\n",
    "  - Slides - [Introduction to Smart Video Tools](./presentations/01-Introduction-to-Intel-Smart-Video-Tools.pdf)\n",
    "\n",
    "* **Training a Deep Learning Model**\n",
    "  - Slides - [Training a Deep Learning Model](./presentations/DL_training_model.pdf)\n",
    "  - Lab - Training a Deep Learning Model  [[Default](./dl-model-training/README.md)] [[Python](./dl-model-training/Python/Deep_Learning_Tutorial.ipynb)]\n",
    "  \n",
    "* **Basic End to End Object Detection Inference Example**\n",
    "  - Slides - [Basic End to End Object Detection Example](./presentations/02-03_Basic-End-to-End-Object-Detection-Example.pdf)\n",
    "  - Lab Setup - [Lab Setup Instructions](./Lab_setup.md)\n",
    "  - Lab - Basic End to End Object Detection Example   [[C++](./object-detection/README.md)]   [[Python](./object-detection/Python/basic_end_to_end_object_detection.ipynb)]\n",
    "  - Lab - Tensor Flow example [[C++](./advanced-video-analytics/tensor_flow.md)] [[Python](./object-detection/Python/Tensor_Flow_example.ipynb)]\n",
    "  - Lab - [Object Detection with YOLOv3* model](./object-detection/README_yolov3.md)\n",
    "\n",
    "* **Hardware Heterogeneity**\n",
    "  - Lab - Hardware Heterogeneity [[C++](./hardware-heterogeneity/README.md)] [[Python](./hardware-heterogeneity/Python/hardware-heterogeneity.ipynb)]\n",
    "\n",
    "* **HW Acceleration with Intel® Movidius™ Neural Compute Stick**\n",
    "  - Lab - HW Acceleration with Intel® Movidius™ Neural Compute Stick [[C++](./HW-Acceleration-with-Movidious-NCS/README.md)] [[Python](./HW-Acceleration-with-Movidious-NCS/Python/HW_Acceleration_with_Movidius_NCS.ipynb)]\n",
    "  \n",
    "* **FPGA Inference Accelerator**\n",
    "  - Slides - [HW Acceleration with Intel® FPGA](./presentations/FPGA.pdf)\n",
    "\n",
    "* **Optimization Tools and Techniques** \n",
    "  - Slides - [Optimization Tools and Techniques](./presentations/04-05_Optimization_and_advanced_analytics.pdf)\n",
    "  - Lab 1 - Optimization Tools and Techniques [[C++](./optimization-tools-and-techniques/README.md)] [[Python](./optimization-tools-and-techniques/Python/optimization_tools_and_techniques.ipynb)]\n",
    "  - Lab 2- [Intel® VTune™ Amplifier tutorial](./optimization-tools-and-techniques/README_VTune.md)\n",
    "  \n",
    "* **Advanced Video Analytics**\n",
    "  - Lab - Multiple models usage example [[C++](./advanced-video-analytics/multiple_models.md)] [[Python](./advanced-video-analytics/Python/advanced_video_analytics.ipynb)]\n",
    "<!----  \n",
    "* **UP²\\* AI Vision Development kit as Edge**\n",
    "  - Setup - [Development machine and Internet Connection Sharing](./up2-vision-kit/dev_machine_setup.md)\n",
    "  - Lab - [Interact face detection on UP2 kit using Intel® System Studio](./up2-vision-kit/openvino-projects-using-iss2019.md) ---->\n",
    "\n",
    "* **Implement Custom Layers for Inference on CPU and Integrated GPU**\n",
    "  - Slides - [Custom Layer](./presentations/custom_layer.pdf)\n",
    "  - Lab - [Custom Layer](./custom-layer/README.md)\n",
    "  \n",
    "* **Additional Examples - Reference Implementations**\n",
    "  - Industrial \n",
    "  \t- [Safety Gear Detection](./safety-gear-example/README.md)\n",
    "\t- [Restricted Zone Notifier](https://github.com/intel-iot-devkit/restricted-zone-notifier-cpp)\n",
    "  \t- [Object Size Detector](https://github.com/intel-iot-devkit/object-size-detector-cpp)\n",
    "  - Retail \n",
    "  \t- [Store Traffic Monitor](https://github.com/intel-iot-devkit/store-traffic-monitor)\n",
    "\t- [Shopper Gaze Monitor](https://github.com/intel-iot-devkit/shopper-gaze-monitor-cpp)\n",
    "<!--\t\n",
    "* **Workshop Survey**\n",
    "  - [Workshop Survey](https://idz.qualtrics.com/jfe/form/SV_a9GvOxtOrOziykB)\n",
    "  - [Custom Layer Tutorial Survey](https://intelemployee.az1.qualtrics.com/jfe/form/SV_1ZjOKaEIQUM5FpX)\n",
    "  - [Embedded Vision Summit Workshop Survey](https://intel.az1.qualtrics.com/jfe/form/SV_6RsCwmj6QGD3PAF)\n",
    "  -->"
   ]
  }
 ],
 "metadata": {
  "kernelspec": {
   "display_name": "Python 3 (Ubuntu)",
   "language": "python",
   "name": "c003-python_3"
  },
  "language_info": {
   "codemirror_mode": {
    "name": "ipython",
    "version": 3
   },
   "file_extension": ".py",
   "mimetype": "text/x-python",
   "name": "python",
   "nbconvert_exporter": "python",
   "pygments_lexer": "ipython3",
   "version": "3.5.2"
  }
 },
 "nbformat": 4,
 "nbformat_minor": 2
}
